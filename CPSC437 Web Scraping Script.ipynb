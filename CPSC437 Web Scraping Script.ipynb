{
 "cells": [
  {
   "cell_type": "code",
   "execution_count": 1,
   "metadata": {},
   "outputs": [],
   "source": [
    "import requests\n",
    "from bs4 import BeautifulSoup\n",
    "from selenium import webdriver\n",
    "from selenium.webdriver.chrome.options import Options\n",
    "import re\n",
    "import pandas as pd\n",
    "import numpy as np"
   ]
  },
  {
   "cell_type": "code",
   "execution_count": 2,
   "metadata": {},
   "outputs": [],
   "source": [
    "#webscraper for the elmcitymarket website (keeping only results with category name included)\n",
    "def elmscraper(url, category):\n",
    "    page = requests.get(url)\n",
    "    soup = BeautifulSoup(page.text, 'html.parser')\n",
    "    #getting brandnames just to check for functionality \n",
    "    brands = soup.find_all(class_=\"card-text brandName\")\n",
    "    brandnames=[]\n",
    "    for i in range(len(brands)):\n",
    "        brand=brands[i]\n",
    "        brandnames.append(brand.get_text())\n",
    "    #getting prices\n",
    "    prices = soup.find_all(class_=\"price price--withoutTax\")\n",
    "    pricelist=[]\n",
    "    for i in range(len(prices)):\n",
    "        price = prices[i]\n",
    "        pricelist.append(price.get_text())\n",
    "    #getting product names \n",
    "    product = soup.find_all(class_=\"card-title\")\n",
    "    prodnames=[]\n",
    "    for i in range(len(product)):\n",
    "        prod=product[i]\n",
    "        prodnames.append(prod.get_text())\n",
    "    #getting readable format \n",
    "    prodnames = [re.sub(\"\\n\", \"\", x) for x in prodnames]\n",
    "    #creating df\n",
    "    categories = np.repeat(category, len(pricelist))\n",
    "    df = pd.DataFrame({'price':pricelist, 'product':prodnames, 'category':categories})\n",
    "    #keeping only results that include category name in product name\n",
    "    df_final = df[df['product'].str.contains(category, case = False)]\n",
    "    return df_final"
   ]
  },
  {
   "cell_type": "code",
   "execution_count": 3,
   "metadata": {},
   "outputs": [],
   "source": [
    "#webscraper for the elmcity market website (keeping all results)\n",
    "def elmscraper1(url, category):\n",
    "    page = requests.get(url)\n",
    "    soup = BeautifulSoup(page.text, 'html.parser')\n",
    "    brands = soup.find_all(class_=\"card-text brandName\")\n",
    "    brandnames=[]\n",
    "    for i in range(len(brands)):\n",
    "        brand=brands[i]\n",
    "        brandnames.append(brand.get_text())\n",
    "    prices = soup.find_all(class_=\"price price--withoutTax\")\n",
    "    pricelist=[]\n",
    "    for i in range(len(prices)):\n",
    "        price = prices[i]\n",
    "        pricelist.append(price.get_text())\n",
    "    product = soup.find_all(class_=\"card-title\")\n",
    "\n",
    "    prodnames=[]\n",
    "    for i in range(len(product)):\n",
    "        prod=product[i]\n",
    "        prodnames.append(prod.get_text())\n",
    "\n",
    "    prodnames = [re.sub(\"\\n\", \"\", x) for x in prodnames]\n",
    "    categories = np.repeat(category, len(pricelist))\n",
    "    df = pd.DataFrame({'price':pricelist, 'product':prodnames, 'category':categories})\n",
    "    return df"
   ]
  },
  {
   "cell_type": "code",
   "execution_count": 4,
   "metadata": {
    "scrolled": true
   },
   "outputs": [],
   "source": [
    "bread_elm = elmscraper(\"https://elmcitymarketdelivers.com/search.php?search_query=bread&section=product&sort=relevance\", \"bread\")\n",
    "milk_elm = elmscraper(\"https://elmcitymarketdelivers.com/grocery/dairy/milk-cream.html\", \"milk\")\n",
    "eggs_elm = elmscraper(\"https://elmcitymarketdelivers.com/categories/grocery/dairy/eggs-butter.html\", \"eggs\")\n",
    "butter_elm = elmscraper(\"https://elmcitymarketdelivers.com/categories/grocery/dairy/eggs-butter.html\", \"butter\")\n",
    "cheese_elm = elmscraper1(\"https://elmcitymarketdelivers.com/grocery/dairy/cheese.html\", \"cheese\")\n",
    "bacon_elm = elmscraper(\"https://elmcitymarketdelivers.com/search.php?search_query=bacon&section=product\", \"bacon\")\n",
    "chips_elm = elmscraper(\"https://elmcitymarketdelivers.com/categories/grocery/snacks/chips-dips.html\", \"chips\")\n",
    "cookies_elm = elmscraper(\"https://elmcitymarketdelivers.com/search.php?search_query=cookies&section=product\", \"cookies\")\n",
    "fruit_elm = elmscraper1(\"https://elmcitymarketdelivers.com/categories/grocery/ecm-fresh/produce/fresh-fruit.html\", \"fruit\")\n",
    "icecream_elm = elmscraper(\"https://elmcitymarketdelivers.com/grocery/frozen/ice-cream-sorbets-deserts.html\", \"ice cream\")\n",
    "pasta_elm = elmscraper(\"https://elmcitymarketdelivers.com/search.php?search_query=pasta&section=product&_bc_fsnf=1&category=19\", \"pasta\")\n",
    "cereal_elm = elmscraper(\"https://elmcitymarketdelivers.com/categories/grocery/the-pantry/hot-and-cold-cereal.html\", \"cereal\")\n"
   ]
  },
  {
   "cell_type": "code",
   "execution_count": 5,
   "metadata": {},
   "outputs": [],
   "source": [
    "df_elm = pd.concat([bread_elm, milk_elm, eggs_elm, butter_elm, cheese_elm, bacon_elm, chips_elm, cookies_elm, fruit_elm, icecream_elm, pasta_elm, cereal_elm])"
   ]
  },
  {
   "cell_type": "code",
   "execution_count": null,
   "metadata": {},
   "outputs": [],
   "source": [
    "#webscraper for shoprite\n",
    "def shopritescraper(url, category):\n",
    "    #using selenium to access webpage html \n",
    "    opts = Options()\n",
    "    opts.add_argument(\"user-agent='Mozilla/5.0 (Macintosh; Intel Mac OS X 10_15_7) AppleWebKit/537.36 (KHTML, like Gecko) Chrome/107.0.0.0 Safari/537.36'\")\n",
    "    chrome = webdriver.Chrome(executable_path='/Users/chelseafang/chromedriver', options=opts)\n",
    "    chrome.get(url)\n",
    "    source = chrome.page_source\n",
    "    soups = BeautifulSoup(source, 'html.parser')\n",
    "    chrome.quit\n",
    "    #retrieving product names\n",
    "    product = soups.find_all(class_=\"sc-hKFyIo bdDYJz\")\n",
    "    prodnames=[]\n",
    "    for i in range(len(product)):\n",
    "        prod=product[i]\n",
    "        prodnames.append(prod.get_text())\n",
    "    #cleaning up text\n",
    "    prodnames = [re.sub(\"Open product description\", \"\", x) for x in prodnames]\n",
    "    \n",
    "    #retrieving prices (accounting for on sale items as well)\n",
    "    prices = soups.find_all(attrs = {\"class\":[\"ProductCardPrice--ogjs72 hbXvaR\",\"ProductCardPrice--ogjs72 fgefyT\"]})\n",
    "    pricelist=[]\n",
    "    for i in range(len(prices)):\n",
    "        price = prices[i]\n",
    "        pricelist.append(price.get_text())\n",
    "    #creating df\n",
    "    categories = np.repeat(category, len(pricelist))\n",
    "    df = pd.DataFrame({'price':pricelist, 'product':prodnames, 'category':categories})\n",
    "    df = df.drop_duplicates()\n",
    "    #removing items priced by pound or other non-standard price formats\n",
    "    df = df[~df['price'].str.contains(\"avg/ea\", case = False)]\n",
    "    df_final = df[~df['price'].str.contains(\"lb\", case = False)]\n",
    "    return df_final\n",
    "\n"
   ]
  },
  {
   "cell_type": "code",
   "execution_count": 7,
   "metadata": {},
   "outputs": [],
   "source": [
    "bread_sr = shopritescraper(\"https://www.shoprite.com/sm/pickup/rsid/3000/categories/bread-%26-bakery/fresh-bakery-bread-id-520567\", \"bread\")\n",
    "milk_sr = shopritescraper(\"https://www.shoprite.com/sm/pickup/rsid/3000/categories/dairy/milk-id-520592\", \"milk\")"
   ]
  },
  {
   "cell_type": "code",
   "execution_count": 8,
   "metadata": {},
   "outputs": [],
   "source": [
    "eggs_sr = shopritescraper(\"https://www.shoprite.com/sm/pickup/rsid/3000/categories/dairy/eggs-%26-egg-substitutes-id-520591?take=30&f=Category%3AFresh+Eggs\", \"eggs\")\n",
    "butter_sr = shopritescraper(\"https://www.shoprite.com/sm/pickup/rsid/3000/categories/butter-%26-margarine/butter-id-520007\", \"butter\")"
   ]
  },
  {
   "cell_type": "code",
   "execution_count": 9,
   "metadata": {},
   "outputs": [],
   "source": [
    "cheese_sr = shopritescraper(\"https://www.shoprite.com/sm/pickup/rsid/3000/categories/dairy/packaged-cheese-id-520599?page=2&skip=30\", \"cheese\")\n",
    "bacon_sr = shopritescraper(\"https://www.shoprite.com/sm/pickup/rsid/3000/categories/meat/bacon-%26-breakfast-meats-id-519891?page=1&skip=0\", \"bacon\")"
   ]
  },
  {
   "cell_type": "code",
   "execution_count": 11,
   "metadata": {},
   "outputs": [],
   "source": [
    "chips_sr = shopritescraper(\"https://www.shoprite.com/sm/pickup/rsid/3000/categories/chips-pretzels-%26-popcorn/chips-potato-id-519176?page=2&skip=30\", \"chips\")\n",
    "cookies_sr = shopritescraper(\"https://www.shoprite.com/sm/pickup/rsid/3000/categories/snacks/cookies-id-520167\", \"cookies\")"
   ]
  },
  {
   "cell_type": "code",
   "execution_count": 12,
   "metadata": {},
   "outputs": [],
   "source": [
    "fruit_sr = shopritescraper(\"https://www.shoprite.com/sm/pickup/rsid/3000/categories/produce/fresh-fruit-id-520537\", \"fruit\")\n",
    "icecream_sr = shopritescraper(\"https://www.shoprite.com/sm/pickup/rsid/3000/categories/ice-cream-%26-novelties/ice-cream-id-520096\", \"ice cream\")"
   ]
  },
  {
   "cell_type": "code",
   "execution_count": 13,
   "metadata": {},
   "outputs": [],
   "source": [
    "cereal_sr = shopritescraper(\"https://www.shoprite.com/sm/pickup/rsid/3000/categories/cereal/cold-cereal-id-520744\", \"cereal\")\n",
    "pasta_sr = shopritescraper(\"https://www.shoprite.com/sm/pickup/rsid/3000/categories/pasta-sauces-%26-grains/pasta-id-520188\", \"pasta\")"
   ]
  },
  {
   "cell_type": "code",
   "execution_count": 14,
   "metadata": {},
   "outputs": [],
   "source": [
    "df_sr = pd.concat([bread_sr,milk_sr, eggs_sr, butter_sr, cheese_sr, bacon_sr, chips_sr, cookies_sr, fruit_sr, icecream_sr, cereal_sr, pasta_sr])\n"
   ]
  },
  {
   "cell_type": "code",
   "execution_count": 15,
   "metadata": {},
   "outputs": [],
   "source": [
    "#saving df for both stores\n",
    "df_elm.to_csv('elmcitymarket.csv')\n",
    "df_sr.to_csv(\"shoprite.csv\")"
   ]
  },
  {
   "cell_type": "code",
   "execution_count": 16,
   "metadata": {},
   "outputs": [],
   "source": [
    "#adding store id var\n",
    "df_elm['store'] = np.repeat(\"Elm City Market\", len(df_elm))\n",
    "df_elm['store_id'] = np.repeat(1, len(df_elm))"
   ]
  },
  {
   "cell_type": "code",
   "execution_count": 17,
   "metadata": {},
   "outputs": [],
   "source": [
    "#adding store id var\n",
    "df_sr['store'] = np.repeat(\"ShopRite\", len(df_sr))\n",
    "df_sr['store_id'] = np.repeat(2, len(df_sr))"
   ]
  },
  {
   "cell_type": "code",
   "execution_count": 18,
   "metadata": {},
   "outputs": [],
   "source": [
    "alldat = pd.concat([df_elm, df_sr])"
   ]
  },
  {
   "cell_type": "code",
   "execution_count": 19,
   "metadata": {},
   "outputs": [],
   "source": [
    "#create product table\n",
    "product = alldat[['product', 'category']]\n",
    "product['product_id'] = list(range(1, (len(product)+1)))"
   ]
  },
  {
   "cell_type": "code",
   "execution_count": 21,
   "metadata": {},
   "outputs": [
    {
     "name": "stderr",
     "output_type": "stream",
     "text": [
      "<ipython-input-21-f21aca254a52>:2: SettingWithCopyWarning: \n",
      "A value is trying to be set on a copy of a slice from a DataFrame.\n",
      "Try using .loc[row_indexer,col_indexer] = value instead\n",
      "\n",
      "See the caveats in the documentation: https://pandas.pydata.org/pandas-docs/stable/user_guide/indexing.html#returning-a-view-versus-a-copy\n",
      "  sold_at['product_id'] = product[['product_id']]\n"
     ]
    }
   ],
   "source": [
    "#create sold_at table\n",
    "sold_at = alldat[['store_id', 'price']]\n",
    "sold_at['product_id'] = product[['product_id']]"
   ]
  },
  {
   "cell_type": "code",
   "execution_count": 22,
   "metadata": {},
   "outputs": [],
   "source": [
    "store = pd.DataFrame()"
   ]
  },
  {
   "cell_type": "code",
   "execution_count": 23,
   "metadata": {},
   "outputs": [],
   "source": [
    "#fill in store table\n",
    "store['store_id'] = [1,2]\n",
    "store['name']=['Elm City Market', 'ShopRite']\n",
    "store['address'] = ['777 Chapel St, New Haven, CT 06510', '745 Foxon Rd, East Haven, CT 06513']\n",
    "store['open_time'] = ['8:00 AM', '7:00 AM']\n",
    "store['close_time'] = ['8:00 PM', '10:00 PM']"
   ]
  },
  {
   "cell_type": "code",
   "execution_count": 24,
   "metadata": {},
   "outputs": [],
   "source": [
    "store.to_csv('store.csv')"
   ]
  },
  {
   "cell_type": "code",
   "execution_count": 25,
   "metadata": {},
   "outputs": [],
   "source": [
    "product.to_csv('product.csv')"
   ]
  },
  {
   "cell_type": "code",
   "execution_count": 26,
   "metadata": {},
   "outputs": [],
   "source": [
    "sold_at.to_csv('sold_at.csv')"
   ]
  }
 ],
 "metadata": {
  "kernelspec": {
   "display_name": "Python 3",
   "language": "python",
   "name": "python3"
  },
  "language_info": {
   "codemirror_mode": {
    "name": "ipython",
    "version": 3
   },
   "file_extension": ".py",
   "mimetype": "text/x-python",
   "name": "python",
   "nbconvert_exporter": "python",
   "pygments_lexer": "ipython3",
   "version": "3.8.3"
  }
 },
 "nbformat": 4,
 "nbformat_minor": 4
}
